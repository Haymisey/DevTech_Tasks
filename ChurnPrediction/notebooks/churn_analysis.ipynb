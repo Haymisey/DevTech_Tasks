{
 "cells": [
  {
   "cell_type": "code",
   "execution_count": 1,
   "metadata": {},
   "outputs": [
    {
     "name": "stdout",
     "output_type": "stream",
     "text": [
      "  State  Account length  Area code International plan Voice mail plan  \\\n",
      "0    LA             117        408                 No              No   \n",
      "1    IN              65        415                 No              No   \n",
      "2    NY             161        415                 No              No   \n",
      "3    SC             111        415                 No              No   \n",
      "4    HI              49        510                 No              No   \n",
      "\n",
      "   Number vmail messages  Total day minutes  Total day calls  \\\n",
      "0                      0              184.5               97   \n",
      "1                      0              129.1              137   \n",
      "2                      0              332.9               67   \n",
      "3                      0              110.4              103   \n",
      "4                      0              119.3              117   \n",
      "\n",
      "   Total day charge  Total eve minutes  Total eve calls  Total eve charge  \\\n",
      "0             31.37              351.6               80             29.89   \n",
      "1             21.95              228.5               83             19.42   \n",
      "2             56.59              317.8               97             27.01   \n",
      "3             18.77              137.3              102             11.67   \n",
      "4             20.28              215.1              109             18.28   \n",
      "\n",
      "   Total night minutes  Total night calls  Total night charge  \\\n",
      "0                215.8                 90                9.71   \n",
      "1                208.8                111                9.40   \n",
      "2                160.6                128                7.23   \n",
      "3                189.6                105                8.53   \n",
      "4                178.7                 90                8.04   \n",
      "\n",
      "   Total intl minutes  Total intl calls  Total intl charge  \\\n",
      "0                 8.7                 4               2.35   \n",
      "1                12.7                 6               3.43   \n",
      "2                 5.4                 9               1.46   \n",
      "3                 7.7                 6               2.08   \n",
      "4                11.1                 1               3.00   \n",
      "\n",
      "   Customer service calls  Churn  \n",
      "0                       1  False  \n",
      "1                       4   True  \n",
      "2                       4   True  \n",
      "3                       2  False  \n",
      "4                       1  False  \n",
      "\n",
      "Missing values:\n",
      "State                     0\n",
      "Account length            0\n",
      "Area code                 0\n",
      "International plan        0\n",
      "Voice mail plan           0\n",
      "Number vmail messages     0\n",
      "Total day minutes         0\n",
      "Total day calls           0\n",
      "Total day charge          0\n",
      "Total eve minutes         0\n",
      "Total eve calls           0\n",
      "Total eve charge          0\n",
      "Total night minutes       0\n",
      "Total night calls         0\n",
      "Total night charge        0\n",
      "Total intl minutes        0\n",
      "Total intl calls          0\n",
      "Total intl charge         0\n",
      "Customer service calls    0\n",
      "Churn                     0\n",
      "dtype: int64\n"
     ]
    }
   ],
   "source": [
    "import pandas as pd\n",
    "\n",
    "data = pd.read_csv('../data/raw/churn-bigml-20.csv')\n",
    "\n",
    "# Inspect the first few rows of the data\n",
    "print(data.head())\n",
    "\n",
    "# Check for missing values\n",
    "print(\"\\nMissing values:\")\n",
    "print(data.isnull().sum())\n"
   ]
  }
 ],
 "metadata": {
  "kernelspec": {
   "display_name": "Python 3",
   "language": "python",
   "name": "python3"
  },
  "language_info": {
   "codemirror_mode": {
    "name": "ipython",
    "version": 3
   },
   "file_extension": ".py",
   "mimetype": "text/x-python",
   "name": "python",
   "nbconvert_exporter": "python",
   "pygments_lexer": "ipython3",
   "version": "3.13.1"
  }
 },
 "nbformat": 4,
 "nbformat_minor": 2
}
